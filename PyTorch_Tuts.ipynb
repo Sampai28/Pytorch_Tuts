{
  "nbformat": 4,
  "nbformat_minor": 0,
  "metadata": {
    "accelerator": "GPU",
    "colab": {
      "name": "PyTorch_Tuts.ipynb",
      "provenance": [],
      "collapsed_sections": []
    },
    "kernelspec": {
      "display_name": "Python 3",
      "language": "python",
      "name": "python3"
    },
    "language_info": {
      "codemirror_mode": {
        "name": "ipython",
        "version": 3
      },
      "file_extension": ".py",
      "mimetype": "text/x-python",
      "name": "python",
      "nbconvert_exporter": "python",
      "pygments_lexer": "ipython3",
      "version": "3.8.3"
    }
  },
  "cells": [
    {
      "cell_type": "markdown",
      "metadata": {
        "id": "pHIHSqYb_vBm"
      },
      "source": [
        "Part 1: Basics of basics (-_-) nothing much to explore here you can move on to the next part..."
      ]
    },
    {
      "cell_type": "code",
      "metadata": {
        "id": "T20s9o35tiY-"
      },
      "source": [
        "import torch"
      ],
      "execution_count": 66,
      "outputs": []
    },
    {
      "cell_type": "code",
      "metadata": {
        "colab": {
          "base_uri": "https://localhost:8080/"
        },
        "id": "PkUp-pPZt1MR",
        "outputId": "8dcf9ccc-68e8-4ce2-dad0-7848322d6977"
      },
      "source": [
        "x = torch.Tensor([1,2,3,4,5])\n",
        "y = torch.Tensor([1,2])\n",
        "x.shape"
      ],
      "execution_count": 67,
      "outputs": [
        {
          "output_type": "execute_result",
          "data": {
            "text/plain": [
              "torch.Size([5])"
            ]
          },
          "metadata": {
            "tags": []
          },
          "execution_count": 67
        }
      ]
    },
    {
      "cell_type": "code",
      "metadata": {
        "colab": {
          "base_uri": "https://localhost:8080/"
        },
        "id": "yjSvD1gHupVL",
        "outputId": "407ffeeb-c45c-467e-8c16-8e68c709fbc2"
      },
      "source": [
        "z = torch.zeros([4,2])  \n",
        "z"
      ],
      "execution_count": 68,
      "outputs": [
        {
          "output_type": "execute_result",
          "data": {
            "text/plain": [
              "tensor([[0., 0.],\n",
              "        [0., 0.],\n",
              "        [0., 0.],\n",
              "        [0., 0.]])"
            ]
          },
          "metadata": {
            "tags": []
          },
          "execution_count": 68
        }
      ]
    },
    {
      "cell_type": "code",
      "metadata": {
        "colab": {
          "base_uri": "https://localhost:8080/"
        },
        "id": "bCL0XB7n-TPM",
        "outputId": "0b95b6e4-27b3-441e-f3c3-6bf6908bfc64"
      },
      "source": [
        "y =torch.rand([2,5]) #random initialization of 2 X 5\n",
        "y"
      ],
      "execution_count": 69,
      "outputs": [
        {
          "output_type": "execute_result",
          "data": {
            "text/plain": [
              "tensor([[0.3376, 0.6898, 0.8258, 0.0431, 0.6752],\n",
              "        [0.7235, 0.0321, 0.3005, 0.5834, 0.7890]])"
            ]
          },
          "metadata": {
            "tags": []
          },
          "execution_count": 69
        }
      ]
    },
    {
      "cell_type": "code",
      "metadata": {
        "colab": {
          "base_uri": "https://localhost:8080/"
        },
        "id": "yTM2EmBe-ZfL",
        "outputId": "26ed1204-7ad7-4ade-91ba-e1fd867aeb42"
      },
      "source": [
        "y.view([5,2]) #similar to reshape"
      ],
      "execution_count": 70,
      "outputs": [
        {
          "output_type": "execute_result",
          "data": {
            "text/plain": [
              "tensor([[0.3376, 0.6898],\n",
              "        [0.8258, 0.0431],\n",
              "        [0.6752, 0.7235],\n",
              "        [0.0321, 0.3005],\n",
              "        [0.5834, 0.7890]])"
            ]
          },
          "metadata": {
            "tags": []
          },
          "execution_count": 70
        }
      ]
    },
    {
      "cell_type": "markdown",
      "metadata": {
        "id": "K-nxhFviAA3y"
      },
      "source": [
        "Part 2: Data"
      ]
    },
    {
      "cell_type": "code",
      "metadata": {
        "id": "ZNiO7X_d-gnE"
      },
      "source": [
        "import torch\n",
        "import torchvision #helps in data augumentation\n",
        "from torchvision import transforms, datasets #visit https://pytorch.org/vision/0.8/datasets.html for finding what all datasets are included || https://pytorch.org/vision/0.8/transforms.html"
      ],
      "execution_count": 71,
      "outputs": []
    },
    {
      "cell_type": "code",
      "metadata": {
        "id": "AtbfRDPgAhqE"
      },
      "source": [
        "train = datasets.MNIST(\"\", train=True, download = True, transform=transforms.Compose([transforms.ToTensor()]))  \n",
        "\n",
        "test = datasets.MNIST(\"\", train=False, download = True, transform=transforms.Compose([transforms.ToTensor()]))"
      ],
      "execution_count": 72,
      "outputs": []
    },
    {
      "cell_type": "code",
      "metadata": {
        "colab": {
          "base_uri": "https://localhost:8080/"
        },
        "id": "x_AsCsFNIVh6",
        "outputId": "60a0f5fd-765a-498a-d4b2-ff4e58ab7c9a"
      },
      "source": [
        "len(train), len(test)"
      ],
      "execution_count": 73,
      "outputs": [
        {
          "output_type": "execute_result",
          "data": {
            "text/plain": [
              "(60000, 10000)"
            ]
          },
          "metadata": {
            "tags": []
          },
          "execution_count": 73
        }
      ]
    },
    {
      "cell_type": "code",
      "metadata": {
        "id": "pnr2TTZgEazC"
      },
      "source": [
        " #https://pytorch.org/vision/0.8/transforms.html\n",
        "\n",
        " trainset = torch.utils.data.DataLoader(train, batch_size = 32, shuffle = True)\n",
        " testset = torch.utils.data.DataLoader(test, batch_size = 32, shuffle = True)"
      ],
      "execution_count": 74,
      "outputs": []
    },
    {
      "cell_type": "code",
      "metadata": {
        "colab": {
          "base_uri": "https://localhost:8080/"
        },
        "id": "JVGRYJ-zyFTd",
        "outputId": "d01660e1-9493-4ad2-a0e6-3e0d04e9e6ab"
      },
      "source": [
        "for data in trainset:\n",
        "  print(data)\n",
        "  break"
      ],
      "execution_count": 75,
      "outputs": [
        {
          "output_type": "stream",
          "text": [
            "[tensor([[[[0., 0., 0.,  ..., 0., 0., 0.],\n",
            "          [0., 0., 0.,  ..., 0., 0., 0.],\n",
            "          [0., 0., 0.,  ..., 0., 0., 0.],\n",
            "          ...,\n",
            "          [0., 0., 0.,  ..., 0., 0., 0.],\n",
            "          [0., 0., 0.,  ..., 0., 0., 0.],\n",
            "          [0., 0., 0.,  ..., 0., 0., 0.]]],\n",
            "\n",
            "\n",
            "        [[[0., 0., 0.,  ..., 0., 0., 0.],\n",
            "          [0., 0., 0.,  ..., 0., 0., 0.],\n",
            "          [0., 0., 0.,  ..., 0., 0., 0.],\n",
            "          ...,\n",
            "          [0., 0., 0.,  ..., 0., 0., 0.],\n",
            "          [0., 0., 0.,  ..., 0., 0., 0.],\n",
            "          [0., 0., 0.,  ..., 0., 0., 0.]]],\n",
            "\n",
            "\n",
            "        [[[0., 0., 0.,  ..., 0., 0., 0.],\n",
            "          [0., 0., 0.,  ..., 0., 0., 0.],\n",
            "          [0., 0., 0.,  ..., 0., 0., 0.],\n",
            "          ...,\n",
            "          [0., 0., 0.,  ..., 0., 0., 0.],\n",
            "          [0., 0., 0.,  ..., 0., 0., 0.],\n",
            "          [0., 0., 0.,  ..., 0., 0., 0.]]],\n",
            "\n",
            "\n",
            "        ...,\n",
            "\n",
            "\n",
            "        [[[0., 0., 0.,  ..., 0., 0., 0.],\n",
            "          [0., 0., 0.,  ..., 0., 0., 0.],\n",
            "          [0., 0., 0.,  ..., 0., 0., 0.],\n",
            "          ...,\n",
            "          [0., 0., 0.,  ..., 0., 0., 0.],\n",
            "          [0., 0., 0.,  ..., 0., 0., 0.],\n",
            "          [0., 0., 0.,  ..., 0., 0., 0.]]],\n",
            "\n",
            "\n",
            "        [[[0., 0., 0.,  ..., 0., 0., 0.],\n",
            "          [0., 0., 0.,  ..., 0., 0., 0.],\n",
            "          [0., 0., 0.,  ..., 0., 0., 0.],\n",
            "          ...,\n",
            "          [0., 0., 0.,  ..., 0., 0., 0.],\n",
            "          [0., 0., 0.,  ..., 0., 0., 0.],\n",
            "          [0., 0., 0.,  ..., 0., 0., 0.]]],\n",
            "\n",
            "\n",
            "        [[[0., 0., 0.,  ..., 0., 0., 0.],\n",
            "          [0., 0., 0.,  ..., 0., 0., 0.],\n",
            "          [0., 0., 0.,  ..., 0., 0., 0.],\n",
            "          ...,\n",
            "          [0., 0., 0.,  ..., 0., 0., 0.],\n",
            "          [0., 0., 0.,  ..., 0., 0., 0.],\n",
            "          [0., 0., 0.,  ..., 0., 0., 0.]]]]), tensor([7, 2, 3, 5, 4, 9, 5, 7, 9, 8, 9, 9, 3, 6, 2, 5, 3, 3, 3, 3, 6, 0, 7, 9,\n",
            "        7, 7, 7, 6, 0, 1, 4, 6])]\n"
          ],
          "name": "stdout"
        }
      ]
    },
    {
      "cell_type": "code",
      "metadata": {
        "colab": {
          "base_uri": "https://localhost:8080/"
        },
        "id": "1Sgr6fvDyMZy",
        "outputId": "8bd34b05-df70-46b5-b324-abd14dae8836"
      },
      "source": [
        "x,y = data[0][0] , data[0][1] \n",
        "x.shape"
      ],
      "execution_count": 76,
      "outputs": [
        {
          "output_type": "execute_result",
          "data": {
            "text/plain": [
              "torch.Size([1, 28, 28])"
            ]
          },
          "metadata": {
            "tags": []
          },
          "execution_count": 76
        }
      ]
    },
    {
      "cell_type": "code",
      "metadata": {
        "colab": {
          "base_uri": "https://localhost:8080/",
          "height": 265
        },
        "id": "ViTbScnk6kVb",
        "outputId": "932f2168-11f6-4fea-db1d-14c1fdcac9f1"
      },
      "source": [
        "import matplotlib.pyplot as plt\n",
        "plt.imshow(x.view(28,28))\n",
        "plt.show()"
      ],
      "execution_count": 77,
      "outputs": [
        {
          "output_type": "display_data",
          "data": {
            "image/png": "[encoded data removed]",
            "text/plain": [
              "<Figure size 432x288 with 1 Axes>"
            ]
          },
          "metadata": {
            "tags": [],
            "needs_background": "light"
          }
        }
      ]
    },
    {
      "cell_type": "code",
      "metadata": {
        "colab": {
          "base_uri": "https://localhost:8080/"
        },
        "id": "dWhi1Hgy7as4",
        "outputId": "b69c9357-30d0-4e1b-9ac3-21ec40835fc6"
      },
      "source": [
        "tot = 0\n",
        "counter_dict = {x:0 for x in range(10)}\n",
        "\n",
        "for data in trainset:\n",
        "  xs , ys = data\n",
        "  for y in ys:\n",
        "    counter_dict[int(y)]+=1\n",
        "    tot+=1\n",
        "print(counter_dict)"
      ],
      "execution_count": 78,
      "outputs": [
        {
          "output_type": "stream",
          "text": [
            "{0: 5923, 1: 6742, 2: 5958, 3: 6131, 4: 5842, 5: 5421, 6: 5918, 7: 6265, 8: 5851, 9: 5949}\n"
          ],
          "name": "stdout"
        }
      ]
    },
    {
      "cell_type": "code",
      "metadata": {
        "colab": {
          "base_uri": "https://localhost:8080/"
        },
        "id": "1EzjlrFy-y_2",
        "outputId": "9252d603-d9cd-4a94-d751-9feeb1761a5d"
      },
      "source": [
        "for i in counter_dict:\n",
        "  print(f\"{i} -> {counter_dict[i]/tot*100}\")"
      ],
      "execution_count": 79,
      "outputs": [
        {
          "output_type": "stream",
          "text": [
            "0 -> 9.871666666666666\n",
            "1 -> 11.236666666666666\n",
            "2 -> 9.93\n",
            "3 -> 10.218333333333334\n",
            "4 -> 9.736666666666666\n",
            "5 -> 9.035\n",
            "6 -> 9.863333333333333\n",
            "7 -> 10.441666666666666\n",
            "8 -> 9.751666666666667\n",
            "9 -> 9.915000000000001\n"
          ],
          "name": "stdout"
        }
      ]
    },
    {
      "cell_type": "markdown",
      "metadata": {
        "id": "ZivyKAHYBh7n"
      },
      "source": [
        "Part 3: Building a Neural Network"
      ]
    },
    {
      "cell_type": "code",
      "metadata": {
        "id": "GX-T09vWBhE9"
      },
      "source": [
        "train = datasets.MNIST(\"\", train=True, download = True, transform=transforms.Compose([transforms.ToTensor()]))  \n",
        "\n",
        "test = datasets.MNIST(\"\", train=False, download = True, transform=transforms.Compose([transforms.ToTensor()]))"
      ],
      "execution_count": 80,
      "outputs": []
    },
    {
      "cell_type": "code",
      "metadata": {
        "id": "cUuxj-nCCfYD"
      },
      "source": [
        "import torch.nn as nn\n",
        "import torch.nn.functional as F"
      ],
      "execution_count": 81,
      "outputs": []
    },
    {
      "cell_type": "code",
      "metadata": {
        "colab": {
          "base_uri": "https://localhost:8080/"
        },
        "id": "8pL0_ABwC4tT",
        "outputId": "0c9d284a-57b7-4e4c-f9f9-80cd0ece1676"
      },
      "source": [
        "class Net(nn.Module):\n",
        "  def __init__(self):\n",
        "    super().__init__()\n",
        "    self.fc1 = nn.Linear(28*28,64)   #28*28 is image size \n",
        "    self.fc2 = nn.Linear(64,64)\n",
        "    self.fc3 = nn.Linear(64,64)\n",
        "    self.fc4 = nn.Linear(64,10)      #10 is number of classes\n",
        "  \n",
        "  def forward(self,x):\n",
        "    x = F.relu(self.fc1(x))\n",
        "    x = F.relu(self.fc2(x))\n",
        "    x = F.relu(self.fc3(x))\n",
        "    x = self.fc4(x)\n",
        "\n",
        "    return F.log_softmax(x, dim=1)\n",
        "\n",
        " \n",
        "\n",
        "\n",
        "net = Net()\n",
        "print(net)"
      ],
      "execution_count": 82,
      "outputs": [
        {
          "output_type": "stream",
          "text": [
            "Net(\n",
            "  (fc1): Linear(in_features=784, out_features=64, bias=True)\n",
            "  (fc2): Linear(in_features=64, out_features=64, bias=True)\n",
            "  (fc3): Linear(in_features=64, out_features=64, bias=True)\n",
            "  (fc4): Linear(in_features=64, out_features=10, bias=True)\n",
            ")\n"
          ],
          "name": "stdout"
        }
      ]
    },
    {
      "cell_type": "code",
      "metadata": {
        "colab": {
          "base_uri": "https://localhost:8080/"
        },
        "id": "aH3RElq9DCPE",
        "outputId": "f15f7a69-c81b-41aa-8fa0-81901df542e3"
      },
      "source": [
        "X = torch.rand((28,28))\n",
        "X"
      ],
      "execution_count": 83,
      "outputs": [
        {
          "output_type": "execute_result",
          "data": {
            "text/plain": [
              "tensor([[6.2948e-01, 1.6900e-01, 8.6543e-01, 9.7684e-01, 6.5310e-01, 6.8175e-01,\n",
              "         6.2155e-01, 5.3698e-01, 1.0132e-01, 4.8787e-01, 7.0610e-01, 2.7072e-01,\n",
              "         1.7535e-01, 9.1328e-01, 6.8262e-01, 3.2082e-01, 6.6312e-01, 9.5110e-01,\n",
              "         9.4440e-02, 7.7122e-01, 5.9898e-01, 7.8543e-01, 9.4115e-01, 3.1592e-01,\n",
              "         7.2241e-01, 5.6816e-01, 6.6644e-01, 3.2239e-01],\n",
              "        [3.4615e-01, 5.3234e-01, 1.6574e-01, 7.1988e-01, 6.2933e-01, 8.4962e-01,\n",
              "         9.2052e-01, 7.1206e-01, 9.4665e-02, 8.8101e-01, 4.1311e-01, 8.3667e-02,\n",
              "         2.2665e-01, 4.5980e-01, 4.6568e-02, 3.0062e-01, 3.2434e-01, 2.5427e-01,\n",
              "         1.5508e-01, 6.4844e-01, 6.2470e-01, 2.2419e-01, 2.8087e-01, 5.9692e-01,\n",
              "         9.5767e-01, 3.6745e-01, 5.2590e-01, 1.9125e-01],\n",
              "        [2.4681e-01, 9.2722e-01, 9.4402e-01, 2.2417e-01, 2.5078e-01, 3.9174e-02,\n",
              "         8.2470e-01, 6.7913e-01, 1.6460e-01, 1.6641e-01, 7.1156e-01, 2.8245e-01,\n",
              "         3.5385e-01, 8.3935e-01, 8.9314e-01, 1.2068e-02, 8.2876e-01, 6.1153e-01,\n",
              "         8.4312e-01, 4.9794e-01, 7.5132e-01, 1.9550e-01, 8.6701e-01, 5.4878e-01,\n",
              "         6.2776e-01, 3.3179e-01, 6.7871e-01, 8.5302e-01],\n",
              "        [1.9441e-01, 6.2904e-01, 9.5365e-01, 1.4625e-01, 5.1737e-01, 6.9982e-02,\n",
              "         5.5475e-01, 7.2209e-01, 8.8224e-01, 8.7684e-01, 6.9323e-01, 4.7148e-01,\n",
              "         7.1952e-01, 1.0769e-01, 5.2338e-01, 6.0178e-02, 6.8550e-01, 9.6569e-01,\n",
              "         8.1823e-01, 2.7505e-01, 4.8160e-01, 2.6961e-01, 9.7513e-01, 7.0438e-01,\n",
              "         2.3297e-01, 7.5818e-01, 7.2841e-01, 8.7374e-01],\n",
              "        [9.6705e-01, 4.6383e-01, 5.1069e-01, 3.9757e-01, 7.4245e-01, 4.7659e-01,\n",
              "         6.1299e-01, 5.6793e-01, 4.1169e-01, 4.9365e-01, 4.8846e-01, 2.5558e-02,\n",
              "         3.2664e-01, 9.1462e-01, 1.9606e-01, 1.6213e-01, 2.1466e-01, 2.3529e-01,\n",
              "         9.5373e-01, 5.1694e-01, 7.3465e-01, 5.7561e-02, 5.5085e-01, 9.9464e-01,\n",
              "         6.0014e-01, 4.9326e-01, 1.9979e-01, 7.9247e-01],\n",
              "        [1.2988e-01, 1.9103e-01, 3.9961e-01, 9.8656e-01, 4.6876e-01, 7.9460e-01,\n",
              "         1.3960e-01, 2.4977e-01, 6.9997e-01, 2.4471e-01, 2.2928e-01, 5.3632e-01,\n",
              "         9.8611e-01, 8.7076e-01, 1.7373e-01, 4.0854e-01, 8.7900e-01, 9.1533e-01,\n",
              "         8.8631e-01, 9.1454e-03, 9.5864e-01, 3.3882e-01, 9.7573e-01, 8.0032e-01,\n",
              "         3.0266e-01, 7.9875e-01, 4.1779e-01, 9.3746e-02],\n",
              "        [1.6474e-01, 6.4006e-01, 3.3875e-01, 6.0882e-01, 1.5018e-02, 8.3719e-01,\n",
              "         6.1908e-01, 7.1945e-01, 6.5453e-01, 2.5718e-01, 3.9023e-01, 8.1740e-01,\n",
              "         3.2599e-01, 5.3031e-01, 3.4913e-01, 1.5517e-03, 1.5215e-01, 6.0950e-01,\n",
              "         5.7912e-01, 5.2726e-01, 6.5856e-01, 2.6506e-01, 9.5676e-01, 7.7172e-01,\n",
              "         1.4697e-01, 4.2625e-01, 7.2603e-01, 4.7481e-01],\n",
              "        [2.2079e-01, 9.6576e-01, 2.2866e-01, 7.3918e-01, 1.7437e-01, 2.6586e-01,\n",
              "         3.7585e-01, 7.7625e-01, 5.8135e-02, 2.7000e-01, 9.6444e-01, 3.5431e-01,\n",
              "         7.1295e-01, 8.1492e-01, 7.0748e-01, 6.0438e-01, 5.5036e-01, 9.5929e-02,\n",
              "         4.7053e-01, 9.2658e-01, 1.0435e-01, 1.4898e-01, 8.6427e-01, 8.4252e-01,\n",
              "         3.5527e-01, 7.5555e-01, 9.9060e-01, 4.9385e-01],\n",
              "        [9.4317e-01, 2.6724e-01, 4.3777e-01, 7.8286e-01, 8.8637e-01, 1.2171e-01,\n",
              "         8.0152e-01, 3.4666e-04, 4.4736e-01, 7.1656e-01, 6.4701e-01, 2.9640e-01,\n",
              "         3.1137e-01, 4.7113e-01, 3.9060e-01, 4.8318e-01, 5.8789e-01, 3.8318e-01,\n",
              "         9.1034e-01, 3.5545e-01, 5.8241e-01, 7.1121e-01, 4.5279e-01, 5.3411e-01,\n",
              "         9.1612e-01, 8.3879e-01, 4.5732e-01, 6.4995e-01],\n",
              "        [3.7141e-01, 1.2325e-01, 7.8452e-01, 8.8548e-01, 1.6604e-01, 8.5876e-01,\n",
              "         3.7465e-01, 4.3855e-01, 3.7651e-01, 9.1397e-01, 9.2100e-02, 2.4373e-01,\n",
              "         5.4969e-01, 3.7764e-01, 4.9554e-01, 6.2434e-01, 2.9573e-01, 4.2936e-01,\n",
              "         3.3445e-01, 6.7150e-01, 4.0548e-01, 1.0134e-01, 1.7297e-01, 9.9466e-01,\n",
              "         3.9361e-01, 8.4961e-01, 4.2463e-02, 7.2953e-01],\n",
              "        [7.4326e-01, 4.6834e-01, 6.4248e-01, 6.0475e-02, 9.3426e-01, 8.8711e-01,\n",
              "         1.3633e-01, 1.8914e-01, 7.2916e-01, 9.3565e-01, 7.8451e-01, 8.4446e-02,\n",
              "         1.0554e-01, 8.5040e-01, 5.0577e-02, 2.0182e-01, 9.2268e-02, 6.4446e-01,\n",
              "         3.2054e-01, 3.7308e-01, 5.9364e-01, 8.8103e-01, 2.0888e-01, 7.8025e-01,\n",
              "         5.3547e-01, 8.0318e-01, 8.8559e-01, 7.9539e-01],\n",
              "        [4.8754e-01, 6.0438e-02, 5.8036e-01, 7.6358e-01, 3.3920e-01, 1.7147e-01,\n",
              "         2.8540e-01, 2.1022e-01, 3.8391e-02, 5.9054e-01, 8.9501e-01, 4.9045e-03,\n",
              "         9.0298e-01, 2.8416e-02, 8.5814e-02, 5.9572e-01, 5.8315e-01, 9.3446e-01,\n",
              "         1.7130e-01, 9.7786e-01, 6.7144e-01, 4.1275e-01, 3.4443e-01, 1.5360e-01,\n",
              "         8.4431e-02, 5.7177e-01, 3.2416e-01, 2.3335e-01],\n",
              "        [6.0970e-01, 9.8903e-01, 2.1952e-01, 8.6894e-01, 4.2905e-01, 4.9705e-01,\n",
              "         5.6400e-01, 7.6055e-01, 6.3174e-01, 7.1562e-01, 7.8247e-01, 7.4650e-01,\n",
              "         6.8194e-01, 5.3666e-01, 6.5283e-01, 3.4910e-01, 6.9608e-01, 6.0166e-01,\n",
              "         9.6866e-01, 3.6801e-01, 4.8842e-01, 8.3528e-01, 5.7181e-01, 7.6352e-01,\n",
              "         1.6496e-01, 4.7504e-01, 1.2266e-01, 6.4626e-01],\n",
              "        [9.9909e-01, 1.2012e-01, 3.0465e-01, 2.5584e-01, 5.2217e-01, 4.2042e-02,\n",
              "         4.7647e-01, 3.1097e-01, 2.8206e-01, 2.1989e-01, 7.3500e-01, 8.6071e-01,\n",
              "         3.6224e-01, 3.3860e-01, 3.6579e-01, 4.6643e-01, 6.2881e-01, 4.7563e-03,\n",
              "         7.1659e-01, 2.5835e-01, 9.0431e-01, 8.7156e-01, 8.7740e-01, 9.3134e-01,\n",
              "         2.9667e-01, 3.9003e-01, 5.0773e-01, 8.6167e-01],\n",
              "        [3.6709e-01, 3.1938e-01, 4.5079e-01, 3.0238e-01, 7.5668e-01, 4.0325e-01,\n",
              "         4.1670e-03, 4.3811e-01, 2.6354e-01, 6.9072e-01, 3.7935e-01, 2.9498e-01,\n",
              "         4.1045e-01, 1.9128e-02, 4.2983e-01, 6.4979e-01, 3.0961e-01, 8.0998e-01,\n",
              "         6.0306e-01, 2.7617e-01, 5.5730e-01, 4.3808e-01, 2.8204e-01, 1.3664e-01,\n",
              "         5.6533e-01, 7.8789e-01, 6.6935e-01, 2.4147e-01],\n",
              "        [6.6928e-01, 9.0192e-01, 5.1850e-01, 1.6663e-01, 3.8034e-01, 4.6192e-01,\n",
              "         2.7661e-01, 9.3343e-01, 7.0748e-01, 4.3449e-01, 6.3515e-01, 5.3608e-01,\n",
              "         3.9069e-01, 1.3655e-02, 6.4719e-01, 4.2052e-02, 1.2918e-01, 6.6826e-01,\n",
              "         4.6760e-01, 5.3910e-01, 7.0636e-01, 6.9435e-01, 1.2180e-01, 9.0894e-01,\n",
              "         4.2919e-01, 2.5822e-01, 3.9940e-01, 9.3899e-01],\n",
              "        [2.8185e-01, 3.6502e-01, 4.4636e-02, 5.9888e-01, 1.6615e-03, 4.4818e-01,\n",
              "         3.1492e-01, 5.1958e-01, 6.8977e-01, 8.2741e-01, 6.5243e-01, 1.0609e-01,\n",
              "         9.7840e-01, 2.4427e-02, 7.4280e-01, 8.0840e-01, 1.2954e-01, 2.9721e-01,\n",
              "         3.7982e-01, 4.8102e-01, 9.4171e-01, 5.0774e-01, 7.3780e-02, 4.7821e-01,\n",
              "         1.8455e-03, 2.9014e-02, 4.3507e-01, 2.8445e-01],\n",
              "        [9.5894e-01, 6.7042e-01, 5.7750e-01, 2.0945e-01, 6.9580e-01, 7.2077e-02,\n",
              "         4.9750e-01, 9.6299e-02, 3.0013e-03, 8.3368e-01, 6.6746e-01, 4.7735e-01,\n",
              "         6.9420e-01, 5.6866e-01, 8.1365e-01, 9.5873e-01, 9.6218e-01, 7.1747e-02,\n",
              "         4.1148e-01, 4.5467e-01, 9.1827e-02, 1.8932e-02, 4.8430e-01, 4.7028e-01,\n",
              "         3.1145e-01, 1.9485e-01, 8.1559e-01, 8.7703e-01],\n",
              "        [7.8379e-01, 5.1479e-02, 6.0824e-01, 9.2001e-01, 4.3766e-01, 7.0462e-01,\n",
              "         6.5253e-01, 1.8733e-03, 4.8153e-01, 3.2547e-02, 6.6957e-01, 5.3383e-01,\n",
              "         3.8490e-01, 8.9842e-01, 9.1130e-01, 3.4484e-01, 9.9685e-03, 1.7535e-01,\n",
              "         2.5846e-01, 6.7290e-01, 2.6830e-01, 4.2835e-02, 4.2005e-01, 6.8028e-01,\n",
              "         5.2483e-02, 4.5016e-01, 6.8874e-01, 2.2820e-01],\n",
              "        [9.6525e-01, 1.0791e-01, 5.8287e-03, 7.8936e-01, 7.4895e-02, 4.1455e-01,\n",
              "         9.9204e-01, 5.6316e-01, 2.2704e-01, 9.4496e-01, 3.2618e-01, 6.7139e-01,\n",
              "         9.0540e-01, 3.2778e-01, 1.3251e-01, 5.1559e-01, 3.3616e-01, 9.7221e-01,\n",
              "         7.6481e-01, 4.1719e-01, 8.5708e-03, 8.7945e-01, 9.1834e-01, 3.7817e-01,\n",
              "         6.8225e-01, 2.8582e-01, 8.0558e-01, 8.3694e-01],\n",
              "        [3.8885e-01, 8.6513e-01, 5.2898e-01, 9.1531e-02, 7.4858e-01, 2.2210e-01,\n",
              "         2.5667e-02, 8.8982e-01, 2.1780e-01, 2.7028e-01, 9.9610e-01, 8.0766e-01,\n",
              "         1.3003e-01, 4.4231e-01, 2.4646e-01, 4.6948e-01, 7.4361e-01, 6.0411e-01,\n",
              "         1.1050e-01, 1.5530e-01, 6.8009e-01, 6.4128e-01, 3.3789e-01, 9.9792e-01,\n",
              "         4.9490e-01, 4.4989e-01, 9.8499e-01, 3.6453e-01],\n",
              "        [1.7740e-01, 2.5445e-01, 6.8271e-01, 7.4802e-01, 9.4565e-01, 6.7539e-01,\n",
              "         6.5244e-01, 3.3765e-01, 3.6759e-02, 7.1145e-01, 5.1609e-01, 5.8288e-01,\n",
              "         6.7638e-01, 7.6923e-01, 1.0084e-01, 3.2764e-01, 1.2487e-01, 6.8915e-01,\n",
              "         6.7826e-01, 3.7386e-01, 8.8292e-01, 7.5437e-01, 9.4825e-01, 5.6428e-01,\n",
              "         1.2811e-01, 2.4641e-01, 7.5376e-01, 4.9544e-01],\n",
              "        [7.0746e-01, 4.8816e-01, 4.9268e-01, 3.3305e-01, 8.4466e-01, 4.5240e-01,\n",
              "         2.9351e-01, 4.3064e-01, 9.9775e-01, 7.1935e-01, 3.8224e-02, 4.8079e-01,\n",
              "         1.0683e-01, 7.9823e-01, 1.3077e-01, 1.4732e-02, 7.5654e-01, 5.3138e-01,\n",
              "         3.8122e-01, 7.4249e-01, 1.3359e-02, 5.5582e-01, 1.2222e-02, 6.7797e-01,\n",
              "         8.5893e-01, 3.2524e-01, 5.8418e-01, 1.1637e-01],\n",
              "        [3.1677e-01, 8.2557e-01, 4.3202e-01, 9.7870e-01, 7.1110e-01, 1.7714e-01,\n",
              "         1.8362e-01, 2.5626e-01, 6.9283e-01, 6.5696e-01, 1.4025e-01, 8.8359e-01,\n",
              "         5.4418e-01, 7.2034e-01, 6.9737e-01, 3.4686e-01, 1.1625e-01, 3.3396e-01,\n",
              "         3.9574e-02, 7.5646e-01, 6.1342e-01, 6.2365e-01, 4.1151e-02, 4.6679e-01,\n",
              "         9.9657e-01, 9.7373e-01, 4.0261e-01, 9.2700e-01],\n",
              "        [2.6092e-01, 5.4016e-01, 5.7850e-02, 2.2796e-01, 7.1423e-03, 2.6158e-01,\n",
              "         7.3835e-01, 4.4227e-02, 1.2223e-01, 8.2658e-01, 7.7356e-01, 6.5918e-01,\n",
              "         6.8069e-01, 4.5321e-01, 7.9799e-01, 6.5347e-01, 7.2679e-01, 5.8757e-01,\n",
              "         8.9525e-01, 6.6280e-01, 7.3608e-01, 5.6769e-01, 6.1334e-01, 8.6127e-01,\n",
              "         1.7274e-01, 6.8460e-01, 4.6449e-01, 3.2591e-01],\n",
              "        [3.8544e-01, 8.6446e-01, 3.9294e-01, 7.3742e-01, 9.6956e-01, 5.4997e-01,\n",
              "         3.3541e-01, 3.9366e-01, 4.1632e-01, 9.5393e-01, 3.0114e-01, 4.1411e-01,\n",
              "         9.3430e-01, 7.0386e-01, 8.4088e-01, 8.5650e-02, 8.9836e-01, 5.1147e-01,\n",
              "         6.9290e-01, 2.8896e-01, 4.9570e-01, 2.4558e-01, 4.4625e-01, 4.0578e-02,\n",
              "         7.4517e-01, 4.5977e-02, 7.0983e-01, 3.2487e-01],\n",
              "        [8.2681e-02, 8.4513e-01, 4.8069e-02, 8.4358e-01, 4.0429e-01, 9.2569e-01,\n",
              "         1.2486e-01, 7.7736e-01, 7.9553e-01, 9.0418e-01, 4.7320e-01, 7.0536e-01,\n",
              "         3.9151e-01, 8.4472e-01, 3.9736e-01, 2.6453e-01, 5.7328e-01, 2.4257e-01,\n",
              "         4.7484e-01, 8.0104e-01, 3.4899e-02, 8.4985e-01, 4.5975e-01, 7.3686e-01,\n",
              "         9.1643e-02, 9.2855e-01, 4.2500e-01, 3.9180e-01],\n",
              "        [7.2304e-01, 1.4665e-01, 5.6675e-01, 3.8418e-01, 3.6110e-01, 3.2169e-01,\n",
              "         9.4212e-01, 8.9866e-01, 8.9694e-01, 8.7201e-01, 4.9075e-01, 9.7521e-01,\n",
              "         3.3385e-01, 4.6471e-01, 4.6266e-01, 9.4688e-01, 5.8898e-01, 7.3180e-01,\n",
              "         2.0588e-01, 9.6558e-01, 1.7869e-01, 9.5874e-01, 2.8242e-01, 2.0426e-02,\n",
              "         8.1430e-01, 2.5093e-01, 8.4975e-02, 4.8353e-01]])"
            ]
          },
          "metadata": {
            "tags": []
          },
          "execution_count": 83
        }
      ]
    },
    {
      "cell_type": "code",
      "metadata": {
        "id": "LkIShvbeRY1A"
      },
      "source": [
        "#output = net(X) #gives error ... so needs to be flatten"
      ],
      "execution_count": 84,
      "outputs": []
    },
    {
      "cell_type": "code",
      "metadata": {
        "colab": {
          "base_uri": "https://localhost:8080/"
        },
        "id": "zRtFqKTpRdb2",
        "outputId": "18b693a1-a722-438c-f90c-dee4936f8ea7"
      },
      "source": [
        "o1=net(X.view(-1,28*28))  #use -1 if not sure about the dimension\n",
        "o2 = net(X.view(1,28*28))\n",
        "o1,o2"
      ],
      "execution_count": 85,
      "outputs": [
        {
          "output_type": "execute_result",
          "data": {
            "text/plain": [
              "(tensor([[-2.3591, -2.1799, -2.1983, -2.2887, -2.3418, -2.3063, -2.3710, -2.4213,\n",
              "          -2.2132, -2.3782]], grad_fn=<LogSoftmaxBackward>),\n",
              " tensor([[-2.3591, -2.1799, -2.1983, -2.2887, -2.3418, -2.3063, -2.3710, -2.4213,\n",
              "          -2.2132, -2.3782]], grad_fn=<LogSoftmaxBackward>))"
            ]
          },
          "metadata": {
            "tags": []
          },
          "execution_count": 85
        }
      ]
    },
    {
      "cell_type": "markdown",
      "metadata": {
        "id": "0v9AoGBjYIMv"
      },
      "source": [
        "Part 4: Training the model"
      ]
    },
    {
      "cell_type": "code",
      "metadata": {
        "colab": {
          "base_uri": "https://localhost:8080/"
        },
        "id": "QzzQ3IcdVxL2",
        "outputId": "cd577b18-720a-496d-fc96-f8fed2403090"
      },
      "source": [
        "import torch.optim as optim \n",
        "\n",
        "optimizer = optim.Adam(net.parameters(), lr = 0.001)\n",
        "\n",
        "epochs = 3\n",
        "for epoch in range(epochs):\n",
        "  for data in trainset:\n",
        "    x,y = data\n",
        "    net.zero_grad()\n",
        "    output = net(x.view(-1,784))\n",
        "    loss = F.nll_loss(output, y)\n",
        "    loss.backward()  #https://stackoverflow.com/questions/53975717/pytorch-connection-between-loss-backward-and-optimizer-step\n",
        "    optimizer.step() #https://pytorch.org/docs/master/generated/torch.optim.Optimizer.step.html\n",
        "  print(loss)"
      ],
      "execution_count": 86,
      "outputs": [
        {
          "output_type": "stream",
          "text": [
            "tensor(0.2745, grad_fn=<NllLossBackward>)\n",
            "tensor(0.4745, grad_fn=<NllLossBackward>)\n",
            "tensor(0.1109, grad_fn=<NllLossBackward>)\n"
          ],
          "name": "stdout"
        }
      ]
    },
    {
      "cell_type": "code",
      "metadata": {
        "colab": {
          "base_uri": "https://localhost:8080/"
        },
        "id": "2IyFMFZhiCoi",
        "outputId": "756de0df-f53a-4e11-c1b9-becd2250c550"
      },
      "source": [
        "  correct = 0\n",
        "  tot = 0\n",
        "  with torch.no_grad():\n",
        "    for data in trainset:\n",
        "      x,y = data\n",
        "      output = net(x.view(-1,784))\n",
        "      for idx, i in enumerate(output):\n",
        "        if torch.argmax(i)==y[idx]:\n",
        "          correct+=1\n",
        "        tot+=1\n",
        "    \n",
        "print(f\"Accuracy {round(correct/tot,3)}\")"
      ],
      "execution_count": 87,
      "outputs": [
        {
          "output_type": "stream",
          "text": [
            "Accuracy 0.971\n"
          ],
          "name": "stdout"
        }
      ]
    },
    {
      "cell_type": "code",
      "metadata": {
        "colab": {
          "base_uri": "https://localhost:8080/"
        },
        "id": "HouJaF0wbX8m",
        "outputId": "0ea12cc2-4808-49cc-9d41-fcab8d2f985b"
      },
      "source": [
        "a = torch.Tensor([0,1,0,1,1,0,1,0])\n",
        "a=a.view(2,4)\n",
        "a"
      ],
      "execution_count": 88,
      "outputs": [
        {
          "output_type": "execute_result",
          "data": {
            "text/plain": [
              "tensor([[0., 1., 0., 1.],\n",
              "        [1., 0., 1., 0.]])"
            ]
          },
          "metadata": {
            "tags": []
          },
          "execution_count": 88
        }
      ]
    },
    {
      "cell_type": "code",
      "metadata": {
        "colab": {
          "base_uri": "https://localhost:8080/"
        },
        "id": "zvmfOmCrbhXs",
        "outputId": "5f05c292-57c2-43c0-b607-27b63665fc87"
      },
      "source": [
        "for i in a:\n",
        "  print(torch.argmax(i))  #use of argmax"
      ],
      "execution_count": 89,
      "outputs": [
        {
          "output_type": "stream",
          "text": [
            "tensor(1)\n",
            "tensor(0)\n"
          ],
          "name": "stdout"
        }
      ]
    },
    {
      "cell_type": "code",
      "metadata": {
        "colab": {
          "base_uri": "https://localhost:8080/",
          "height": 282
        },
        "id": "UYCwucpjbnUi",
        "outputId": "c1955ad8-cc5c-4a09-c76d-913f84534f15"
      },
      "source": [
        "import matplotlib.pyplot as plt\n",
        "plt.imshow(x[1].view(28,28))\n",
        "plt.show()\n",
        "print(torch.argmax(net(x[1].view(-1,784))[0]))  "
      ],
      "execution_count": 90,
      "outputs": [
        {
          "output_type": "display_data",
          "data": {
            "image/png": "[encoded data removed]",
            "text/plain": [
              "<Figure size 432x288 with 1 Axes>"
            ]
          },
          "metadata": {
            "tags": [],
            "needs_background": "light"
          }
        },
        {
          "output_type": "stream",
          "text": [
            "tensor(4)\n"
          ],
          "name": "stdout"
        }
      ]
    },
    {
      "cell_type": "code",
      "metadata": {
        "colab": {
          "base_uri": "https://localhost:8080/"
        },
        "id": "CrQTj2CYcxHo",
        "outputId": "ed32e74c-1a8d-44ec-d6b6-a8f065039739"
      },
      "source": [
        "print(torch.argmax(net(x[2].view(-1,784))[0]))  "
      ],
      "execution_count": 91,
      "outputs": [
        {
          "output_type": "stream",
          "text": [
            "tensor(3)\n"
          ],
          "name": "stdout"
        }
      ]
    },
    {
      "cell_type": "code",
      "metadata": {
        "colab": {
          "base_uri": "https://localhost:8080/"
        },
        "id": "M1tPBxrsdZi2",
        "outputId": "885bb0f5-4f25-46b7-f42a-097d71e2a41c"
      },
      "source": [
        "y[2]"
      ],
      "execution_count": 92,
      "outputs": [
        {
          "output_type": "execute_result",
          "data": {
            "text/plain": [
              "tensor(3)"
            ]
          },
          "metadata": {
            "tags": []
          },
          "execution_count": 92
        }
      ]
    },
    {
      "cell_type": "markdown",
      "metadata": {
        "id": "kpBZu8D8vySP"
      },
      "source": [
        "Part 5: ConvNet using Pytorch"
      ]
    },
    {
      "cell_type": "code",
      "metadata": {
        "colab": {
          "base_uri": "https://localhost:8080/"
        },
        "id": "McSIayhsvuqO",
        "outputId": "d80cc0ae-a915-4bd3-c311-e5e4903ce7f5"
      },
      "source": [
        "from google.colab import drive        #uploaded the zip file on my drive \n",
        "drive.mount('/content/drive')"
      ],
      "execution_count": 93,
      "outputs": [
        {
          "output_type": "stream",
          "text": [
            "Drive already mounted at /content/drive; to attempt to forcibly remount, call drive.mount(\"/content/drive\", force_remount=True).\n"
          ],
          "name": "stdout"
        }
      ]
    },
    {
      "cell_type": "code",
      "metadata": {
        "colab": {
          "base_uri": "https://localhost:8080/"
        },
        "id": "dOUMCPOavwB-",
        "outputId": "594cdb85-da4b-424c-936f-04a757726f4d"
      },
      "source": [
        "from zipfile import ZipFile\n",
        "file_name = \"/content/drive/MyDrive/ZipFiles/kagglecatsanddogs_3367a (1).zip\"\n",
        "\n",
        "with ZipFile(file_name, 'r') as zip:\n",
        "  zip.extractall()\n",
        "  print('Done')"
      ],
      "execution_count": 94,
      "outputs": [
        {
          "output_type": "stream",
          "text": [
            "Done\n"
          ],
          "name": "stdout"
        }
      ]
    },
    {
      "cell_type": "code",
      "metadata": {
        "id": "8oUkCqLcwQ70"
      },
      "source": [
        "import os\n",
        "import cv2\n",
        "import numpy as np\n",
        "from tqdm import tqdm"
      ],
      "execution_count": 95,
      "outputs": []
    },
    {
      "cell_type": "code",
      "metadata": {
        "id": "qp85HM7vxbiq"
      },
      "source": [
        "rebuild = False"
      ],
      "execution_count": 96,
      "outputs": []
    },
    {
      "cell_type": "code",
      "metadata": {
        "id": "Q-Eej88Zxdw6"
      },
      "source": [
        "class dogsvscats():\n",
        "  size = 50\n",
        "  cats = \"/content/PetImages/Cat\"\n",
        "  dogs = \"/content/PetImages/Dog\"\n",
        "  Labels = {cats:0, dogs:1}\n",
        "  training_data = []\n",
        "  catcount=0\n",
        "  dogcount=0\n",
        "\n",
        "  def make_training_data(self):\n",
        "    for label in self.Labels:\n",
        "      print(label)\n",
        "      for f in tqdm(os.listdir(label)):\n",
        "        try:\n",
        "          path = os.path.join(label,f)\n",
        "          img = cv2.imread(path, cv2.IMREAD_GRAYSCALE)\n",
        "          img = cv2.resize(img, (self.size,self.size))\n",
        "          self.training_data.append([np.array(img), np.eye(2)[self.Labels[label]]])\n",
        "\n",
        "          if label==self.cats:\n",
        "            self.catcount+=1\n",
        "          elif label==self.dogs:\n",
        "            self.dogcount+=1\n",
        "        except Exception as e:\n",
        "          pass\n",
        "\n",
        "    np.random.shuffle(self.training_data)\n",
        "    np.save(\"training_data.npy\", self.training_data)\n",
        "    print(\"cats:\" , self.catcount)\n",
        "    print(\"dogs:\", self.dogcount)\n",
        "\n",
        "if rebuild:\n",
        "  dvc = dogsvscats()\n",
        "  dvc.make_training_data()\n"
      ],
      "execution_count": 97,
      "outputs": []
    },
    {
      "cell_type": "code",
      "metadata": {
        "id": "ltO_9Ek73lAV"
      },
      "source": [
        "training_data = np.load(\"training_data.npy\", allow_pickle=True)"
      ],
      "execution_count": 98,
      "outputs": []
    },
    {
      "cell_type": "code",
      "metadata": {
        "colab": {
          "base_uri": "https://localhost:8080/"
        },
        "id": "ER0dd96b3_F_",
        "outputId": "9484de47-1a7d-425e-c30a-779e78ab00d6"
      },
      "source": [
        "print(len(training_data))"
      ],
      "execution_count": 99,
      "outputs": [
        {
          "output_type": "stream",
          "text": [
            "24946\n"
          ],
          "name": "stdout"
        }
      ]
    },
    {
      "cell_type": "code",
      "metadata": {
        "colab": {
          "base_uri": "https://localhost:8080/"
        },
        "id": "QaTpz6pH45-X",
        "outputId": "8d832760-504e-4a4f-8515-47b831f76a94"
      },
      "source": [
        "training_data[0]"
      ],
      "execution_count": 100,
      "outputs": [
        {
          "output_type": "execute_result",
          "data": {
            "text/plain": [
              "array([array([[146, 147, 147, ..., 157, 158, 155],\n",
              "       [148, 149, 151, ..., 159, 157, 156],\n",
              "       [149, 150, 150, ..., 159, 159, 158],\n",
              "       ...,\n",
              "       [ 40,  48,  47, ..., 143, 142, 140],\n",
              "       [ 52,  56,  52, ..., 142, 141,  72],\n",
              "       [ 52,  56,  55, ..., 141, 139,  39]], dtype=uint8),\n",
              "       array([1., 0.])], dtype=object)"
            ]
          },
          "metadata": {
            "tags": []
          },
          "execution_count": 100
        }
      ]
    },
    {
      "cell_type": "code",
      "metadata": {
        "id": "XfXCEZjG5AWl"
      },
      "source": [
        "x,y = training_data[2]"
      ],
      "execution_count": 101,
      "outputs": []
    },
    {
      "cell_type": "code",
      "metadata": {
        "colab": {
          "base_uri": "https://localhost:8080/",
          "height": 267
        },
        "id": "Ixwjby145PKU",
        "outputId": "ce63574d-47f8-43d3-e9e1-3b303ef88e25"
      },
      "source": [
        "import matplotlib.pyplot as plt\n",
        "plt.imshow(x, cmap=\"gray\")\n",
        "plt.show()"
      ],
      "execution_count": 102,
      "outputs": [
        {
          "output_type": "display_data",
          "data": {
            "image/png": "[encoded data removed]",
            "text/plain": [
              "<Figure size 432x288 with 1 Axes>"
            ]
          },
          "metadata": {
            "tags": [],
            "needs_background": "light"
          }
        }
      ]
    },
    {
      "cell_type": "markdown",
      "metadata": {
        "id": "sEn_KeRd57Tz"
      },
      "source": [
        "Part 6: Training the ConvNet"
      ]
    },
    {
      "cell_type": "code",
      "metadata": {
        "id": "LymLaHay5vG0"
      },
      "source": [
        "import torch\n",
        "import torch.nn as nn\n",
        "import torch.nn.functional as F"
      ],
      "execution_count": 103,
      "outputs": []
    },
    {
      "cell_type": "code",
      "metadata": {
        "colab": {
          "base_uri": "https://localhost:8080/"
        },
        "id": "_8KOa9xHJCou",
        "outputId": "4df81b4e-58d8-49c2-a213-88f55dfee48a"
      },
      "source": [
        "class Net(nn.Module):\n",
        "    def __init__(self):\n",
        "        super().__init__() # just run the init of parent class (nn.Module)\n",
        "        self.conv1 = nn.Conv2d(1, 32, 5) # input is 1 image, 32 output channels, 5x5 kernel / window\n",
        "        self.conv2 = nn.Conv2d(32, 64, 5) # input is 32, bc the first layer output 32. Then we say the output will be 64 channels, 5x5 kernel / window\n",
        "        self.conv3 = nn.Conv2d(64, 128, 5)\n",
        "\n",
        "        x = torch.randn(50,50).view(-1,1,50,50)\n",
        "        self._to_linear = None\n",
        "        self.convs(x)\n",
        "\n",
        "        self.fc1 = nn.Linear(self._to_linear, 512) #flattening.\n",
        "        self.fc2 = nn.Linear(512, 2) # 512 in, 2 out bc we're doing 2 classes (dog vs cat).\n",
        "\n",
        "    def convs(self, x):\n",
        "        # max pooling over 2x2\n",
        "        x = F.max_pool2d(F.relu(self.conv1(x)), (2, 2))\n",
        "        x = F.max_pool2d(F.relu(self.conv2(x)), (2, 2))\n",
        "        x = F.max_pool2d(F.relu(self.conv3(x)), (2, 2))\n",
        "\n",
        "        if self._to_linear is None:\n",
        "            self._to_linear = x[0].shape[0]*x[0].shape[1]*x[0].shape[2]\n",
        "        return x\n",
        "\n",
        "    def forward(self, x):\n",
        "        x = self.convs(x)\n",
        "        x = x.view(-1, self._to_linear)  # .view is reshape ... this flattens X before \n",
        "        x = F.relu(self.fc1(x))\n",
        "        x = self.fc2(x) # bc this is our output layer. No activation here.\n",
        "        return F.softmax(x, dim=1)\n",
        "\n",
        "\n",
        "net = Net()\n",
        "print(net)"
      ],
      "execution_count": 104,
      "outputs": [
        {
          "output_type": "stream",
          "text": [
            "Net(\n",
            "  (conv1): Conv2d(1, 32, kernel_size=(5, 5), stride=(1, 1))\n",
            "  (conv2): Conv2d(32, 64, kernel_size=(5, 5), stride=(1, 1))\n",
            "  (conv3): Conv2d(64, 128, kernel_size=(5, 5), stride=(1, 1))\n",
            "  (fc1): Linear(in_features=512, out_features=512, bias=True)\n",
            "  (fc2): Linear(in_features=512, out_features=2, bias=True)\n",
            ")\n"
          ],
          "name": "stdout"
        }
      ]
    },
    {
      "cell_type": "code",
      "metadata": {
        "id": "oPyksR-8JVrQ",
        "colab": {
          "base_uri": "https://localhost:8080/"
        },
        "outputId": "1097cc4f-55e7-4bc0-926b-818af933a10a"
      },
      "source": [
        "import torch.optim as optim\n",
        "optimizer = optim.Adam(net.parameters() , lr=0.001)\n",
        "loss_function = nn.MSELoss()\n",
        "\n",
        "x = torch.Tensor([i[0] for i in training_data]).view(-1,50,50)\n",
        "x = x/255.0\n",
        "\n",
        "y = torch.Tensor([i[1] for i in training_data])\n",
        "\n",
        "valpct = 0.1\n",
        "valsize = int(len(x)*valpct)\n",
        "print(valsize)"
      ],
      "execution_count": 105,
      "outputs": [
        {
          "output_type": "stream",
          "text": [
            "2494\n"
          ],
          "name": "stdout"
        }
      ]
    },
    {
      "cell_type": "code",
      "metadata": {
        "colab": {
          "base_uri": "https://localhost:8080/"
        },
        "id": "Ia210a3FXfas",
        "outputId": "1ec77e60-04db-46e4-ef6d-45f7b11e372e"
      },
      "source": [
        "train_X = x[:-valsize]\n",
        "train_y = y[:-valsize]\n",
        "\n",
        "test_X = x[-valsize:]\n",
        "test_y = y[-valsize:]\n",
        "\n",
        "print(len(train_X), len(test_X))"
      ],
      "execution_count": 106,
      "outputs": [
        {
          "output_type": "stream",
          "text": [
            "22452 2494\n"
          ],
          "name": "stdout"
        }
      ]
    },
    {
      "cell_type": "code",
      "metadata": {
        "colab": {
          "base_uri": "https://localhost:8080/"
        },
        "id": "bTmhfjk9YnhP",
        "outputId": "bbaf5145-0388-45a8-83ea-e509af30d248"
      },
      "source": [
        "BATCH_SIZE = 100\n",
        "EPOCHS = 1\n",
        "\n",
        "for epoch in range(EPOCHS):\n",
        "    for i in tqdm(range(0, len(train_X), BATCH_SIZE)): # from 0, to the len of x, stepping BATCH_SIZE at a time. [:50] ..for now just to dev\n",
        "        #print(f\"{i}:{i+BATCH_SIZE}\")\n",
        "        batch_X = train_X[i:i+BATCH_SIZE].view(-1, 1, 50, 50)\n",
        "        batch_y = train_y[i:i+BATCH_SIZE]\n",
        "\n",
        "        net.zero_grad()\n",
        "\n",
        "        outputs = net(batch_X)\n",
        "        loss = loss_function(outputs, batch_y)\n",
        "        loss.backward()\n",
        "        optimizer.step()    # Does the update\n",
        "\n",
        "    print(f\"Epoch: {epoch}. Loss: {loss}\")"
      ],
      "execution_count": 107,
      "outputs": [
        {
          "output_type": "stream",
          "text": [
            "100%|██████████| 225/225 [01:40<00:00,  2.24it/s]"
          ],
          "name": "stderr"
        },
        {
          "output_type": "stream",
          "text": [
            "Epoch: 0. Loss: 0.2304847538471222\n"
          ],
          "name": "stdout"
        },
        {
          "output_type": "stream",
          "text": [
            "\n"
          ],
          "name": "stderr"
        }
      ]
    },
    {
      "cell_type": "code",
      "metadata": {
        "colab": {
          "base_uri": "https://localhost:8080/"
        },
        "id": "dmpu02CdZJ_Q",
        "outputId": "35d088b2-65b9-4cc9-9c03-2330df91b7a3"
      },
      "source": [
        "correct = 0\n",
        "total = 0\n",
        "with torch.no_grad():\n",
        "    for i in tqdm(range(len(test_X))):\n",
        "        real_class = torch.argmax(test_y[i])\n",
        "        net_out = net(test_X[i].view(-1, 1, 50, 50))[0]  # returns a list, \n",
        "        predicted_class = torch.argmax(net_out)\n",
        "\n",
        "        if predicted_class == real_class:\n",
        "            correct += 1\n",
        "        total += 1\n",
        "print(\"Accuracy: \", round(correct/total, 3))"
      ],
      "execution_count": 108,
      "outputs": [
        {
          "output_type": "stream",
          "text": [
            "100%|██████████| 2494/2494 [00:06<00:00, 361.51it/s]"
          ],
          "name": "stderr"
        },
        {
          "output_type": "stream",
          "text": [
            "Accuracy:  0.635\n"
          ],
          "name": "stdout"
        },
        {
          "output_type": "stream",
          "text": [
            "\n"
          ],
          "name": "stderr"
        }
      ]
    },
    {
      "cell_type": "markdown",
      "metadata": {
        "id": "OVV1u4h9g3pd"
      },
      "source": [
        "Part 7: using GPUs"
      ]
    },
    {
      "cell_type": "code",
      "metadata": {
        "id": "30Npfa11cVC0"
      },
      "source": [
        "import torch\n",
        "import torch.nn as nn\n",
        "import torch.nn.functional as F\n",
        "import torch.optim as optim"
      ],
      "execution_count": 109,
      "outputs": []
    },
    {
      "cell_type": "code",
      "metadata": {
        "colab": {
          "base_uri": "https://localhost:8080/"
        },
        "id": "EhCfRP66g_Sy",
        "outputId": "3cbf0f09-4a25-43b8-990b-6c8b10f9e291"
      },
      "source": [
        "torch.cuda.is_available()"
      ],
      "execution_count": 110,
      "outputs": [
        {
          "output_type": "execute_result",
          "data": {
            "text/plain": [
              "True"
            ]
          },
          "metadata": {
            "tags": []
          },
          "execution_count": 110
        }
      ]
    },
    {
      "cell_type": "code",
      "metadata": {
        "colab": {
          "base_uri": "https://localhost:8080/"
        },
        "id": "G2L4PRPAhGAd",
        "outputId": "a0dade19-da4a-44a2-d34e-3596279cabe2"
      },
      "source": [
        "device = torch.device(\"cuda:0\")\n",
        "device"
      ],
      "execution_count": 111,
      "outputs": [
        {
          "output_type": "execute_result",
          "data": {
            "text/plain": [
              "device(type='cuda', index=0)"
            ]
          },
          "metadata": {
            "tags": []
          },
          "execution_count": 111
        }
      ]
    },
    {
      "cell_type": "code",
      "metadata": {
        "colab": {
          "base_uri": "https://localhost:8080/"
        },
        "id": "6l2_5PxlhIt7",
        "outputId": "28819d86-2583-490b-d7cf-e2a5c15a6b46"
      },
      "source": [
        "net.to(device)"
      ],
      "execution_count": 112,
      "outputs": [
        {
          "output_type": "execute_result",
          "data": {
            "text/plain": [
              "Net(\n",
              "  (conv1): Conv2d(1, 32, kernel_size=(5, 5), stride=(1, 1))\n",
              "  (conv2): Conv2d(32, 64, kernel_size=(5, 5), stride=(1, 1))\n",
              "  (conv3): Conv2d(64, 128, kernel_size=(5, 5), stride=(1, 1))\n",
              "  (fc1): Linear(in_features=512, out_features=512, bias=True)\n",
              "  (fc2): Linear(in_features=512, out_features=2, bias=True)\n",
              ")"
            ]
          },
          "metadata": {
            "tags": []
          },
          "execution_count": 112
        }
      ]
    },
    {
      "cell_type": "code",
      "metadata": {
        "id": "pU70OcmKp4Oh"
      },
      "source": [
        "net = Net().to(device)"
      ],
      "execution_count": 113,
      "outputs": []
    },
    {
      "cell_type": "code",
      "metadata": {
        "colab": {
          "base_uri": "https://localhost:8080/"
        },
        "id": "-R1xz2GiqPZe",
        "outputId": "3975f673-5c4f-4ec1-a026-a4fd770654e1"
      },
      "source": [
        "EPOCHS = 3\n",
        "\n",
        "def train(net):\n",
        "    optimizer = optim.Adam(net.parameters(), lr=0.001)\n",
        "    BATCH_SIZE = 100\n",
        "    EPOCHS = 3\n",
        "    for epoch in range(EPOCHS):\n",
        "        for i in range(0, len(train_X), BATCH_SIZE): # from 0, to the len of x, stepping BATCH_SIZE at a time. [:50] ..for now just to dev\n",
        "            #print(f\"{i}:{i+BATCH_SIZE}\")\n",
        "            batch_X = train_X[i:i+BATCH_SIZE].view(-1, 1, 50, 50)\n",
        "            batch_y = train_y[i:i+BATCH_SIZE]\n",
        "\n",
        "            batch_X, batch_y = batch_X.to(device), batch_y.to(device)\n",
        "            net.zero_grad()\n",
        "\n",
        "            optimizer.zero_grad()   # zero the gradient buffers\n",
        "            outputs = net(batch_X)\n",
        "            loss = loss_function(outputs, batch_y)\n",
        "            loss.backward()\n",
        "            optimizer.step()    # Does the update\n",
        "\n",
        "        print(f\"Epoch: {epoch}. Loss: {loss}\")\n",
        "\n",
        "train(net)"
      ],
      "execution_count": 114,
      "outputs": [
        {
          "output_type": "stream",
          "text": [
            "Epoch: 0. Loss: 0.23113033175468445\n",
            "Epoch: 1. Loss: 0.18704314529895782\n",
            "Epoch: 2. Loss: 0.16056428849697113\n"
          ],
          "name": "stdout"
        }
      ]
    },
    {
      "cell_type": "code",
      "metadata": {
        "colab": {
          "base_uri": "https://localhost:8080/"
        },
        "id": "YZsUMtuTtNQU",
        "outputId": "d539c2f2-60bc-4386-e2ff-3cfcf5429a61"
      },
      "source": [
        "test_X.to(device)\n",
        "test_y.to(device)\n",
        "\n",
        "def test(net):\n",
        "    correct = 0\n",
        "    total = 0\n",
        "    with torch.no_grad():\n",
        "        for i in tqdm(range(len(test_X))):\n",
        "            real_class = torch.argmax(test_y[i]).to(device)\n",
        "            net_out = net(test_X[i].view(-1, 1, 50, 50).to(device))[0]  # returns a list, \n",
        "            predicted_class = torch.argmax(net_out)\n",
        "\n",
        "            if predicted_class == real_class:\n",
        "                correct += 1\n",
        "            total += 1\n",
        "\n",
        "    print(\"\\nAccuracy: \", round(correct/total, 3))\n",
        "\n",
        "test(net)"
      ],
      "execution_count": 121,
      "outputs": [
        {
          "output_type": "stream",
          "text": [
            "100%|██████████| 2494/2494 [00:02<00:00, 902.61it/s]"
          ],
          "name": "stderr"
        },
        {
          "output_type": "stream",
          "text": [
            "\n",
            "Accuracy:  0.748\n"
          ],
          "name": "stdout"
        },
        {
          "output_type": "stream",
          "text": [
            "\n"
          ],
          "name": "stderr"
        }
      ]
    },
    {
      "cell_type": "code",
      "metadata": {
        "id": "kK_DCSb--1aN"
      },
      "source": [
        ""
      ],
      "execution_count": null,
      "outputs": []
    }
  ]
}